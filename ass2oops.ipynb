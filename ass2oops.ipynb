{
 "cells": [
  {
   "cell_type": "markdown",
   "id": "95c4b1d4-b8ff-4a38-af98-439fa953cdd6",
   "metadata": {},
   "source": [
    "ASSIGNMENT -2 OOPS"
   ]
  },
  {
   "cell_type": "markdown",
   "id": "de2086d5-59de-46e2-8a2f-6e519efe0bc1",
   "metadata": {},
   "source": [
    "Q1. What is Abstraction in OOps? Explain with an example."
   ]
  },
  {
   "cell_type": "markdown",
   "id": "7b7ae830-2349-4cdd-aa65-1e7728488a58",
   "metadata": {},
   "source": [
    "Ans-"
   ]
  },
  {
   "cell_type": "markdown",
   "id": "8ce08ad8-0359-4f85-833f-5362557fa7cb",
   "metadata": {},
   "source": [
    "Abstraction in python is defined as a process of handling complexity by hiding unnecessary information from the user."
   ]
  },
  {
   "cell_type": "code",
   "execution_count": 1,
   "id": "528cfe41-44fa-41c2-bb2f-9421c64fbfb3",
   "metadata": {},
   "outputs": [],
   "source": [
    "from abc import ABC,abstractmethod\n",
    "class car(ABC):\n",
    "    @abstractmethod\n",
    "    def mileage(self):\n",
    "        pass\n",
    "class suzuki(car):\n",
    "    def mileage(self):\n",
    "        print(\"mileage is 30kmpl\")\n",
    "        \n",
    "class audi(car):\n",
    "    def mileage(self):\n",
    "        print(\"mileage is 16kmpl\")\n",
    "class BMW(car):\n",
    "    def mileage(self):\n",
    "        print(\"mileage is 12kmpl\")\n",
    "    "
   ]
  },
  {
   "cell_type": "code",
   "execution_count": 2,
   "id": "128b2792-9492-4e2a-b582-8630358d5547",
   "metadata": {},
   "outputs": [],
   "source": [
    "Suzuki=suzuki()"
   ]
  },
  {
   "cell_type": "code",
   "execution_count": 3,
   "id": "0b95846b-8f00-48b8-9b61-d668d291b371",
   "metadata": {},
   "outputs": [],
   "source": [
    "Audi=audi()"
   ]
  },
  {
   "cell_type": "code",
   "execution_count": 4,
   "id": "3bfee045-8bb6-483a-baff-00bca713450c",
   "metadata": {},
   "outputs": [],
   "source": [
    "bmw=BMW()"
   ]
  },
  {
   "cell_type": "code",
   "execution_count": 6,
   "id": "53e996d4-876a-408b-bc7e-56c28c18bdd8",
   "metadata": {},
   "outputs": [
    {
     "name": "stdout",
     "output_type": "stream",
     "text": [
      "mileage is 30kmpl\n"
     ]
    }
   ],
   "source": [
    "Suzuki.mileage()"
   ]
  },
  {
   "cell_type": "code",
   "execution_count": 7,
   "id": "8aaf585d-d4c3-483c-8983-a3cc4a8acb12",
   "metadata": {},
   "outputs": [
    {
     "name": "stdout",
     "output_type": "stream",
     "text": [
      "mileage is 16kmpl\n"
     ]
    }
   ],
   "source": [
    "Audi.mileage()"
   ]
  },
  {
   "cell_type": "code",
   "execution_count": 8,
   "id": "aa2dc4d3-8da1-4ebe-adbf-6740550878bb",
   "metadata": {},
   "outputs": [
    {
     "name": "stdout",
     "output_type": "stream",
     "text": [
      "mileage is 12kmpl\n"
     ]
    }
   ],
   "source": [
    "bmw.mileage()"
   ]
  },
  {
   "cell_type": "markdown",
   "id": "6eeda1ed-b97b-46f4-b4b2-17ac3a4fc4aa",
   "metadata": {},
   "source": [
    "Q2. Differentiate between Abstraction and Encapsulation. Explain with an example."
   ]
  },
  {
   "cell_type": "markdown",
   "id": "8b3800c2-b4f0-42f3-912b-aa915a4ed60e",
   "metadata": {},
   "source": [
    "Ans-"
   ]
  },
  {
   "cell_type": "markdown",
   "id": "e97ecbbe-908e-4b6e-bcd4-752d730f16e8",
   "metadata": {},
   "source": [
    "Abstraction in python is defined as a process of handling complexity by hiding unnecessary information from the user. whereas encapsulation wraps data and codes for necessary information."
   ]
  },
  {
   "cell_type": "markdown",
   "id": "7d2effd6-d3da-4803-95c6-6cdd2e939a2b",
   "metadata": {},
   "source": [
    "Abstraction example-"
   ]
  },
  {
   "cell_type": "code",
   "execution_count": 12,
   "id": "946de396-ab14-4cfb-92da-3ea9901d1bb1",
   "metadata": {},
   "outputs": [],
   "source": [
    "from abc import ABC,abstractmethod\n",
    "class animal(ABC):\n",
    "    @abstractmethod\n",
    "    def voice(self):\n",
    "        pass\n",
    "class cat(animal):\n",
    "    def voice(self):\n",
    "        print(\"meow meow\")\n",
    "class dog(animal):\n",
    "    def voice(self):\n",
    "        print(\"bhou bhou\")"
   ]
  },
  {
   "cell_type": "code",
   "execution_count": 13,
   "id": "51acb619-0327-411b-add2-d921b6dda6ee",
   "metadata": {},
   "outputs": [],
   "source": [
    "c=cat()"
   ]
  },
  {
   "cell_type": "code",
   "execution_count": 14,
   "id": "50f4b842-82b3-43ba-9109-4919c73bfed1",
   "metadata": {},
   "outputs": [],
   "source": [
    "d=dog()"
   ]
  },
  {
   "cell_type": "code",
   "execution_count": 15,
   "id": "402be926-9829-487c-b561-50f36da470bf",
   "metadata": {},
   "outputs": [
    {
     "name": "stdout",
     "output_type": "stream",
     "text": [
      "bhou bhou\n"
     ]
    }
   ],
   "source": [
    "d.voice()"
   ]
  },
  {
   "cell_type": "code",
   "execution_count": 16,
   "id": "85aeb6ff-c67c-409d-b250-45d5e1ccd7e3",
   "metadata": {},
   "outputs": [
    {
     "name": "stdout",
     "output_type": "stream",
     "text": [
      "meow meow\n"
     ]
    }
   ],
   "source": [
    "c.voice()"
   ]
  },
  {
   "cell_type": "markdown",
   "id": "432bc475-8cdc-4e30-9bdd-4bfba7ac9c65",
   "metadata": {},
   "source": [
    "Encapsulation example-"
   ]
  },
  {
   "cell_type": "code",
   "execution_count": 17,
   "id": "7fe3985e-b827-42f6-b601-23b7b116209e",
   "metadata": {},
   "outputs": [],
   "source": [
    "class car:\n",
    "    def __init__ (self , brand , model , year , speed):\n",
    "        self.__brand = brand\n",
    "        self.__model = model\n",
    "        self.__year = year\n",
    "        self.__speed = speed\n",
    "    def set_speed(self , speed):\n",
    "        self.__speed = 0 if speed < 0 else speed\n",
    "    def get_speed(self):\n",
    "        return self.__speed\n",
    "        \n",
    "        "
   ]
  },
  {
   "cell_type": "code",
   "execution_count": 18,
   "id": "19732475-4b2b-430e-9796-8b1c2d6ca573",
   "metadata": {},
   "outputs": [],
   "source": [
    "Car=car(\"suzuki\",\"ertiga\",\"2020\",60)"
   ]
  },
  {
   "cell_type": "code",
   "execution_count": 19,
   "id": "eeee29ef-23e3-47e7-bd50-7bb0dfd1a853",
   "metadata": {},
   "outputs": [],
   "source": [
    "Car.set_speed(-40)"
   ]
  },
  {
   "cell_type": "code",
   "execution_count": 20,
   "id": "3db02a8f-6ae9-4309-8271-c1801da1a145",
   "metadata": {},
   "outputs": [
    {
     "data": {
      "text/plain": [
       "0"
      ]
     },
     "execution_count": 20,
     "metadata": {},
     "output_type": "execute_result"
    }
   ],
   "source": [
    "Car.get_speed()"
   ]
  },
  {
   "cell_type": "code",
   "execution_count": 21,
   "id": "85825a44-e467-4059-89e6-e12773826595",
   "metadata": {},
   "outputs": [],
   "source": [
    "Car.set_speed(90)"
   ]
  },
  {
   "cell_type": "code",
   "execution_count": 22,
   "id": "35164f46-dc6e-42b4-9958-ae29295259e2",
   "metadata": {},
   "outputs": [
    {
     "data": {
      "text/plain": [
       "90"
      ]
     },
     "execution_count": 22,
     "metadata": {},
     "output_type": "execute_result"
    }
   ],
   "source": [
    "Car.get_speed()"
   ]
  },
  {
   "cell_type": "markdown",
   "id": "9779e559-ba18-43b9-9823-8177ec960923",
   "metadata": {},
   "source": [
    "Q3. What is abc module in python? Why is it used?"
   ]
  },
  {
   "cell_type": "markdown",
   "id": "48ca1256-f7f8-4e08-bffc-32cd02613a46",
   "metadata": {},
   "source": [
    "Ans-"
   ]
  },
  {
   "cell_type": "markdown",
   "id": "0c77dc1b-80a9-4c44-85af-5fe0ed2c7ec9",
   "metadata": {},
   "source": [
    "The abc module in Python stands for \"Abstract Base Classes.\" It provides tools to work with abstract classes and abstract methods. "
   ]
  },
  {
   "cell_type": "markdown",
   "id": "663a0be1-4de5-43ba-8d70-173321d90724",
   "metadata": {},
   "source": [
    "Purpose and Usage:\n",
    "\n",
    "The abc module is used for the following purposes:\n",
    "\n",
    "Defining Abstract Base Classes: The abc module allows you to create abstract base classes using the ABC metaclass. These abstract base classes can contain abstract methods that provide a common interface for related classes.\n",
    "\n",
    "Enforcing Interface Contracts: By defining abstract methods in abstract base classes, you can enforce that any concrete subclass must implement these methods. This ensures that all subclasses have a common set of functionalities, even though their implementations might differ.\n",
    "\n",
    "Polymorphism and Duck Typing: Using abstract base classes allows you to implement polymorphism in Python. You can treat objects of different subclasses that inherit from the same abstract base class interchangeably, as long as they provide the required methods specified in the abstract base class.\n",
    "\n"
   ]
  },
  {
   "cell_type": "markdown",
   "id": "dc00b93a-1324-4b0c-abd4-28540104f591",
   "metadata": {},
   "source": [
    "Q4. How can we achieve data abstraction?"
   ]
  },
  {
   "cell_type": "markdown",
   "id": "bd7993ac-8fd4-453c-9175-2ff599c52857",
   "metadata": {},
   "source": [
    "Ans-"
   ]
  },
  {
   "cell_type": "markdown",
   "id": "e5024b54-b2a3-471a-ac8d-5ef91c53ed17",
   "metadata": {},
   "source": [
    "In Python, data abstraction can be achieved using classes and objects. Data abstraction is a fundamental principle of object-oriented programming, which allows you to hide the implementation details of a class while exposing only the necessary attributes and methods to the outside world.\n",
    "(1)Define a Class\n",
    "(2)Use Access Modifiers\n",
    "(3)Encapsulation\n",
    "(4)Provide Public Methods"
   ]
  },
  {
   "cell_type": "markdown",
   "id": "cfebccee-e9dd-470c-b44c-45106aa8805e",
   "metadata": {},
   "source": [
    "Q5. Can we create an instance of an abstract class? Explain your answer."
   ]
  },
  {
   "cell_type": "markdown",
   "id": "be07e3f7-5c7c-461e-a820-4e6eca49caa1",
   "metadata": {},
   "source": [
    "Ans-"
   ]
  },
  {
   "cell_type": "markdown",
   "id": "eb3467e6-2b83-4f01-9d74-e4abfb248dd0",
   "metadata": {},
   "source": [
    "we cannot create an instance of an abstract class directly, meaning you cannot create objects directly from it. Instead, you need to create a concrete subclass (a class that inherits from the abstract class) and then instantiate the subclass."
   ]
  },
  {
   "cell_type": "code",
   "execution_count": 3,
   "id": "22037ef7-b4bd-474c-bd56-41dcf82adc65",
   "metadata": {},
   "outputs": [],
   "source": [
    "from abc import ABC , abstractmethod\n",
    "class vehicle:\n",
    "    @abstractmethod\n",
    "    def power(self):\n",
    "        pass\n",
    "class car(vehicle):\n",
    "    def __init(self , mileage ):\n",
    "        self.mileage = mileage\n",
    "    def power(self):\n",
    "        return self.mileage **2\n",
    "        "
   ]
  },
  {
   "cell_type": "code",
   "execution_count": 5,
   "id": "d5025868-95f8-4ed5-914c-5cd21ae850de",
   "metadata": {},
   "outputs": [
    {
     "ename": "SyntaxError",
     "evalue": "invalid syntax (1973274996.py, line 1)",
     "output_type": "error",
     "traceback": [
      "\u001b[0;36m  Cell \u001b[0;32mIn[5], line 1\u001b[0;36m\u001b[0m\n\u001b[0;31m    Car = car(10):\u001b[0m\n\u001b[0m                 ^\u001b[0m\n\u001b[0;31mSyntaxError\u001b[0m\u001b[0;31m:\u001b[0m invalid syntax\n"
     ]
    }
   ],
   "source": [
    "Car = car(10):"
   ]
  },
  {
   "cell_type": "code",
   "execution_count": null,
   "id": "69bbe3ae-ec03-45a8-829f-ac68d1dd6148",
   "metadata": {},
   "outputs": [],
   "source": []
  }
 ],
 "metadata": {
  "kernelspec": {
   "display_name": "Python 3 (ipykernel)",
   "language": "python",
   "name": "python3"
  },
  "language_info": {
   "codemirror_mode": {
    "name": "ipython",
    "version": 3
   },
   "file_extension": ".py",
   "mimetype": "text/x-python",
   "name": "python",
   "nbconvert_exporter": "python",
   "pygments_lexer": "ipython3",
   "version": "3.10.8"
  }
 },
 "nbformat": 4,
 "nbformat_minor": 5
}
